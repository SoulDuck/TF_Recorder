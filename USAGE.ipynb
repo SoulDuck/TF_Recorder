{
 "cells": [
  {
   "cell_type": "code",
   "execution_count": null,
   "metadata": {
    "collapsed": true
   },
   "outputs": [],
   "source": [
    "import numpy as np \n",
    "import matplotlib.pyplot as plt \n",
    "import PIL \n",
    "import glob\n",
    "from PIL import Image\n",
    "import os ,sys\n",
    "import batch\n",
    "import tensorflow as tf"
   ]
  },
  {
   "cell_type": "code",
   "execution_count": null,
   "metadata": {},
   "outputs": [],
   "source": [
    "lesserpanda= './sample_images/panda/' #사진 파일이 담겨져 있는 폴더\n",
    "racoon = './sample_images/racoon/'\n",
    "#panda folder에는 2개의 사진이 , racoon 파일에는 한개의 사진이 담겨져 있습니다."
   ]
  },
  {
   "cell_type": "code",
   "execution_count": null,
   "metadata": {},
   "outputs": [],
   "source": [
    "src_folder_paths = [lesserpanda , racoon ];labels = [1,2]\n",
    "#사진 파일이 담겨져 있는 path을 넘겨줍니다.\n",
    "#라벨도 같이 넘겨줍니다, \n",
    "# lesserpanda 는 1 로 label 되고 \n",
    "# racoon 폴더에 있는 사진은 2로 라벨됩니다\n",
    "batch_=batch.batch(src_folder_paths ,labels)"
   ]
  },
  {
   "cell_type": "code",
   "execution_count": null,
   "metadata": {},
   "outputs": [],
   "source": [
    "batch_.make_tfrecord_rawdata('./sample_images/sample_2.tfrecord')\n",
    "#만약 tfrecord 파일이 만들어 져 있다면 위 함수를 건너 뜁니다 \n",
    "#tfrecored 파일을 만듭니다. tfrecord 파일이 만들어질 위치를 지정해 주세요!"
   ]
  },
  {
   "cell_type": "code",
   "execution_count": null,
   "metadata": {},
   "outputs": [],
   "source": [
    "tfrecord_path ='./sample_images/sample_2.tfrecord'\n",
    "images , labels  = batch.get_shuffled_batch(tfrecord_path,  3 , (224,224))\n",
    "# 3은 batch_size 입니다 , (224,224)는 복원될 이미지 사이즈 입니다. \n",
    "# tf.bilinear라는 lib을 써서 작은 사진도 224,224로 복원됩니다. \n",
    "init_op=tf.group(tf.global_variables_initializer() ,  tf.local_variables_initializer())\n",
    "sess= tf.Session()\n",
    "sess.run(init_op)\n",
    "coord = tf.train.Coordinator()\n",
    "threads = tf.train.start_queue_runners(sess= sess, coord =coord)\n",
    "for i in xrange(3):\n",
    "    batch_xs , batch_ys=imgs,labs=sess.run([images , labels])\n",
    "    #batch_xs ,batch_ys 을 이용하면 됩니다.\n",
    "    print np.shape(batch_xs)\n",
    "    print batch_ys\n",
    "coord.request_stop()\n",
    "coord.join(threads)"
   ]
  },
  {
   "cell_type": "code",
   "execution_count": null,
   "metadata": {},
   "outputs": [],
   "source": []
  },
  {
   "cell_type": "code",
   "execution_count": null,
   "metadata": {},
   "outputs": [],
   "source": []
  },
  {
   "cell_type": "code",
   "execution_count": null,
   "metadata": {},
   "outputs": [],
   "source": []
  },
  {
   "cell_type": "code",
   "execution_count": null,
   "metadata": {},
   "outputs": [],
   "source": []
  },
  {
   "cell_type": "code",
   "execution_count": null,
   "metadata": {},
   "outputs": [],
   "source": []
  },
  {
   "cell_type": "code",
   "execution_count": null,
   "metadata": {},
   "outputs": [],
   "source": []
  }
 ],
 "metadata": {
  "kernelspec": {
   "display_name": "Python 2",
   "language": "python",
   "name": "python2"
  },
  "language_info": {
   "codemirror_mode": {
    "name": "ipython",
    "version": 2
   },
   "file_extension": ".py",
   "mimetype": "text/x-python",
   "name": "python",
   "nbconvert_exporter": "python",
   "pygments_lexer": "ipython2",
   "version": "2.7.6"
  }
 },
 "nbformat": 4,
 "nbformat_minor": 0
}
